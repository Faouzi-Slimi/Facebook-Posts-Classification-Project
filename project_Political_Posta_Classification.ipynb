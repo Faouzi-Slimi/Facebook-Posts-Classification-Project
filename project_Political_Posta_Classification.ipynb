{
  "nbformat": 4,
  "nbformat_minor": 0,
  "metadata": {
    "colab": {
      "provenance": [],
      "mount_file_id": "https://github.com/Faouzi-Slimi/Project/blob/main/project_Political_Posta_Classification.ipynb",
      "authorship_tag": "ABX9TyNnUNnH4bb/pq8IUJCCmZXM",
      "include_colab_link": true
    },
    "kernelspec": {
      "name": "python3",
      "display_name": "Python 3"
    },
    "language_info": {
      "name": "python"
    }
  },
  "cells": [
    {
      "cell_type": "markdown",
      "metadata": {
        "id": "view-in-github",
        "colab_type": "text"
      },
      "source": [
        "<a href=\"https://colab.research.google.com/github/Faouzi-Slimi/Project/blob/main/project_Political_Posta_Classification.ipynb\" target=\"_parent\"><img src=\"https://colab.research.google.com/assets/colab-badge.svg\" alt=\"Open In Colab\"/></a>"
      ]
    },
    {
      "cell_type": "markdown",
      "source": [
        "# Data Processing"
      ],
      "metadata": {
        "id": "aGKES7SwM8fY"
      }
    },
    {
      "cell_type": "code",
      "execution_count": 1,
      "metadata": {
        "id": "401jnPgMKUHU"
      },
      "outputs": [],
      "source": [
        "# Import Data \n",
        "\n",
        "import pandas as pd\n",
        "import numpy as np\n",
        "\n",
        "Political = pd.read_excel(\"/content/drive/MyDrive/political.xlsx\")\n",
        "NA_Political = pd.read_excel(\"/content/drive/MyDrive/na_political.xlsx\")"
      ]
    },
    {
      "cell_type": "code",
      "source": [
        "Political.head(1)"
      ],
      "metadata": {
        "id": "HXMho9LmNdPB",
        "outputId": "b4ecc784-f162-4638-d4d7-3303930673b6",
        "colab": {
          "base_uri": "https://localhost:8080/",
          "height": 278
        }
      },
      "execution_count": 3,
      "outputs": [
        {
          "output_type": "execute_result",
          "data": {
            "text/plain": [
              "            Date/Time                                            Message  \\\n",
              "0 2022-05-25 00:04:06  اي كانت النتائج يبقى الراجل راجل و الطبوبي طبو...   \n",
              "\n",
              "  Title Description  Rating  Shares  Comments  Reactions  Likes  Loves  ...  \\\n",
              "0   NaN         NaN   597.0     340       868        833    388     36  ...   \n",
              "\n",
              "   Cares  Facebook Page  Facebook Group                  Collections  \\\n",
              "0      8    تحالف أحرار             NaN  {Referendum - Constitution}   \n",
              "\n",
              "        CT Type                                    Link (Original)  \\\n",
              "0  native_video  https://www.facebook.com/105582455305515/video...   \n",
              "\n",
              "   Subscriber count CT Score   Type [Political Content]  \n",
              "0               NaN     5.16  Video           Political  \n",
              "\n",
              "[1 rows x 24 columns]"
            ],
            "text/html": [
              "\n",
              "  <div id=\"df-7db10b06-a0bb-47be-b111-1a1915681cfe\">\n",
              "    <div class=\"colab-df-container\">\n",
              "      <div>\n",
              "<style scoped>\n",
              "    .dataframe tbody tr th:only-of-type {\n",
              "        vertical-align: middle;\n",
              "    }\n",
              "\n",
              "    .dataframe tbody tr th {\n",
              "        vertical-align: top;\n",
              "    }\n",
              "\n",
              "    .dataframe thead th {\n",
              "        text-align: right;\n",
              "    }\n",
              "</style>\n",
              "<table border=\"1\" class=\"dataframe\">\n",
              "  <thead>\n",
              "    <tr style=\"text-align: right;\">\n",
              "      <th></th>\n",
              "      <th>Date/Time</th>\n",
              "      <th>Message</th>\n",
              "      <th>Title</th>\n",
              "      <th>Description</th>\n",
              "      <th>Rating</th>\n",
              "      <th>Shares</th>\n",
              "      <th>Comments</th>\n",
              "      <th>Reactions</th>\n",
              "      <th>Likes</th>\n",
              "      <th>Loves</th>\n",
              "      <th>...</th>\n",
              "      <th>Cares</th>\n",
              "      <th>Facebook Page</th>\n",
              "      <th>Facebook Group</th>\n",
              "      <th>Collections</th>\n",
              "      <th>CT Type</th>\n",
              "      <th>Link (Original)</th>\n",
              "      <th>Subscriber count</th>\n",
              "      <th>CT Score</th>\n",
              "      <th>Type</th>\n",
              "      <th>[Political Content]</th>\n",
              "    </tr>\n",
              "  </thead>\n",
              "  <tbody>\n",
              "    <tr>\n",
              "      <th>0</th>\n",
              "      <td>2022-05-25 00:04:06</td>\n",
              "      <td>اي كانت النتائج يبقى الراجل راجل و الطبوبي طبو...</td>\n",
              "      <td>NaN</td>\n",
              "      <td>NaN</td>\n",
              "      <td>597.0</td>\n",
              "      <td>340</td>\n",
              "      <td>868</td>\n",
              "      <td>833</td>\n",
              "      <td>388</td>\n",
              "      <td>36</td>\n",
              "      <td>...</td>\n",
              "      <td>8</td>\n",
              "      <td>تحالف أحرار</td>\n",
              "      <td>NaN</td>\n",
              "      <td>{Referendum - Constitution}</td>\n",
              "      <td>native_video</td>\n",
              "      <td>https://www.facebook.com/105582455305515/video...</td>\n",
              "      <td>NaN</td>\n",
              "      <td>5.16</td>\n",
              "      <td>Video</td>\n",
              "      <td>Political</td>\n",
              "    </tr>\n",
              "  </tbody>\n",
              "</table>\n",
              "<p>1 rows × 24 columns</p>\n",
              "</div>\n",
              "      <button class=\"colab-df-convert\" onclick=\"convertToInteractive('df-7db10b06-a0bb-47be-b111-1a1915681cfe')\"\n",
              "              title=\"Convert this dataframe to an interactive table.\"\n",
              "              style=\"display:none;\">\n",
              "        \n",
              "  <svg xmlns=\"http://www.w3.org/2000/svg\" height=\"24px\"viewBox=\"0 0 24 24\"\n",
              "       width=\"24px\">\n",
              "    <path d=\"M0 0h24v24H0V0z\" fill=\"none\"/>\n",
              "    <path d=\"M18.56 5.44l.94 2.06.94-2.06 2.06-.94-2.06-.94-.94-2.06-.94 2.06-2.06.94zm-11 1L8.5 8.5l.94-2.06 2.06-.94-2.06-.94L8.5 2.5l-.94 2.06-2.06.94zm10 10l.94 2.06.94-2.06 2.06-.94-2.06-.94-.94-2.06-.94 2.06-2.06.94z\"/><path d=\"M17.41 7.96l-1.37-1.37c-.4-.4-.92-.59-1.43-.59-.52 0-1.04.2-1.43.59L10.3 9.45l-7.72 7.72c-.78.78-.78 2.05 0 2.83L4 21.41c.39.39.9.59 1.41.59.51 0 1.02-.2 1.41-.59l7.78-7.78 2.81-2.81c.8-.78.8-2.07 0-2.86zM5.41 20L4 18.59l7.72-7.72 1.47 1.35L5.41 20z\"/>\n",
              "  </svg>\n",
              "      </button>\n",
              "      \n",
              "  <style>\n",
              "    .colab-df-container {\n",
              "      display:flex;\n",
              "      flex-wrap:wrap;\n",
              "      gap: 12px;\n",
              "    }\n",
              "\n",
              "    .colab-df-convert {\n",
              "      background-color: #E8F0FE;\n",
              "      border: none;\n",
              "      border-radius: 50%;\n",
              "      cursor: pointer;\n",
              "      display: none;\n",
              "      fill: #1967D2;\n",
              "      height: 32px;\n",
              "      padding: 0 0 0 0;\n",
              "      width: 32px;\n",
              "    }\n",
              "\n",
              "    .colab-df-convert:hover {\n",
              "      background-color: #E2EBFA;\n",
              "      box-shadow: 0px 1px 2px rgba(60, 64, 67, 0.3), 0px 1px 3px 1px rgba(60, 64, 67, 0.15);\n",
              "      fill: #174EA6;\n",
              "    }\n",
              "\n",
              "    [theme=dark] .colab-df-convert {\n",
              "      background-color: #3B4455;\n",
              "      fill: #D2E3FC;\n",
              "    }\n",
              "\n",
              "    [theme=dark] .colab-df-convert:hover {\n",
              "      background-color: #434B5C;\n",
              "      box-shadow: 0px 1px 3px 1px rgba(0, 0, 0, 0.15);\n",
              "      filter: drop-shadow(0px 1px 2px rgba(0, 0, 0, 0.3));\n",
              "      fill: #FFFFFF;\n",
              "    }\n",
              "  </style>\n",
              "\n",
              "      <script>\n",
              "        const buttonEl =\n",
              "          document.querySelector('#df-7db10b06-a0bb-47be-b111-1a1915681cfe button.colab-df-convert');\n",
              "        buttonEl.style.display =\n",
              "          google.colab.kernel.accessAllowed ? 'block' : 'none';\n",
              "\n",
              "        async function convertToInteractive(key) {\n",
              "          const element = document.querySelector('#df-7db10b06-a0bb-47be-b111-1a1915681cfe');\n",
              "          const dataTable =\n",
              "            await google.colab.kernel.invokeFunction('convertToInteractive',\n",
              "                                                     [key], {});\n",
              "          if (!dataTable) return;\n",
              "\n",
              "          const docLinkHtml = 'Like what you see? Visit the ' +\n",
              "            '<a target=\"_blank\" href=https://colab.research.google.com/notebooks/data_table.ipynb>data table notebook</a>'\n",
              "            + ' to learn more about interactive tables.';\n",
              "          element.innerHTML = '';\n",
              "          dataTable['output_type'] = 'display_data';\n",
              "          await google.colab.output.renderOutput(dataTable, element);\n",
              "          const docLink = document.createElement('div');\n",
              "          docLink.innerHTML = docLinkHtml;\n",
              "          element.appendChild(docLink);\n",
              "        }\n",
              "      </script>\n",
              "    </div>\n",
              "  </div>\n",
              "  "
            ]
          },
          "metadata": {},
          "execution_count": 3
        }
      ]
    },
    {
      "cell_type": "code",
      "source": [
        "NA_Political.head(1)"
      ],
      "metadata": {
        "id": "aV9PulxEOH6P",
        "outputId": "0edd8715-165c-4341-dfbc-135ee3eafeef",
        "colab": {
          "base_uri": "https://localhost:8080/",
          "height": 296
        }
      },
      "execution_count": 4,
      "outputs": [
        {
          "output_type": "execute_result",
          "data": {
            "text/plain": [
              "             Date/Time                                            Message  \\\n",
              "0  2022-05-25 08:58:39  في #بنزرت كيف تبدا #أستاذ يحبوك تلامذتك هكا يس...   \n",
              "\n",
              "  Title Description  Rating  Shares  Comments  Reactions  Likes  Loves  ...  \\\n",
              "0   NaN         NaN   377.2     230        92       1173    666    472  ...   \n",
              "\n",
              "   Cares  Facebook Page  Facebook Group                  Collections  \\\n",
              "0     31       Tuniflix             NaN  {Referendum - Constitution}   \n",
              "\n",
              "        CT Type                                    Link (Original)  \\\n",
              "0  native_video  https://www.facebook.com/Tuniflix/videos/55927...   \n",
              "\n",
              "   Subscriber count CT Score   Type [Political Content]  \n",
              "0          377953.0     7.59  Video                 NaN  \n",
              "\n",
              "[1 rows x 24 columns]"
            ],
            "text/html": [
              "\n",
              "  <div id=\"df-40faf688-e69e-49e5-8c6f-fc7b6ebe1820\">\n",
              "    <div class=\"colab-df-container\">\n",
              "      <div>\n",
              "<style scoped>\n",
              "    .dataframe tbody tr th:only-of-type {\n",
              "        vertical-align: middle;\n",
              "    }\n",
              "\n",
              "    .dataframe tbody tr th {\n",
              "        vertical-align: top;\n",
              "    }\n",
              "\n",
              "    .dataframe thead th {\n",
              "        text-align: right;\n",
              "    }\n",
              "</style>\n",
              "<table border=\"1\" class=\"dataframe\">\n",
              "  <thead>\n",
              "    <tr style=\"text-align: right;\">\n",
              "      <th></th>\n",
              "      <th>Date/Time</th>\n",
              "      <th>Message</th>\n",
              "      <th>Title</th>\n",
              "      <th>Description</th>\n",
              "      <th>Rating</th>\n",
              "      <th>Shares</th>\n",
              "      <th>Comments</th>\n",
              "      <th>Reactions</th>\n",
              "      <th>Likes</th>\n",
              "      <th>Loves</th>\n",
              "      <th>...</th>\n",
              "      <th>Cares</th>\n",
              "      <th>Facebook Page</th>\n",
              "      <th>Facebook Group</th>\n",
              "      <th>Collections</th>\n",
              "      <th>CT Type</th>\n",
              "      <th>Link (Original)</th>\n",
              "      <th>Subscriber count</th>\n",
              "      <th>CT Score</th>\n",
              "      <th>Type</th>\n",
              "      <th>[Political Content]</th>\n",
              "    </tr>\n",
              "  </thead>\n",
              "  <tbody>\n",
              "    <tr>\n",
              "      <th>0</th>\n",
              "      <td>2022-05-25 08:58:39</td>\n",
              "      <td>في #بنزرت كيف تبدا #أستاذ يحبوك تلامذتك هكا يس...</td>\n",
              "      <td>NaN</td>\n",
              "      <td>NaN</td>\n",
              "      <td>377.2</td>\n",
              "      <td>230</td>\n",
              "      <td>92</td>\n",
              "      <td>1173</td>\n",
              "      <td>666</td>\n",
              "      <td>472</td>\n",
              "      <td>...</td>\n",
              "      <td>31</td>\n",
              "      <td>Tuniflix</td>\n",
              "      <td>NaN</td>\n",
              "      <td>{Referendum - Constitution}</td>\n",
              "      <td>native_video</td>\n",
              "      <td>https://www.facebook.com/Tuniflix/videos/55927...</td>\n",
              "      <td>377953.0</td>\n",
              "      <td>7.59</td>\n",
              "      <td>Video</td>\n",
              "      <td>NaN</td>\n",
              "    </tr>\n",
              "  </tbody>\n",
              "</table>\n",
              "<p>1 rows × 24 columns</p>\n",
              "</div>\n",
              "      <button class=\"colab-df-convert\" onclick=\"convertToInteractive('df-40faf688-e69e-49e5-8c6f-fc7b6ebe1820')\"\n",
              "              title=\"Convert this dataframe to an interactive table.\"\n",
              "              style=\"display:none;\">\n",
              "        \n",
              "  <svg xmlns=\"http://www.w3.org/2000/svg\" height=\"24px\"viewBox=\"0 0 24 24\"\n",
              "       width=\"24px\">\n",
              "    <path d=\"M0 0h24v24H0V0z\" fill=\"none\"/>\n",
              "    <path d=\"M18.56 5.44l.94 2.06.94-2.06 2.06-.94-2.06-.94-.94-2.06-.94 2.06-2.06.94zm-11 1L8.5 8.5l.94-2.06 2.06-.94-2.06-.94L8.5 2.5l-.94 2.06-2.06.94zm10 10l.94 2.06.94-2.06 2.06-.94-2.06-.94-.94-2.06-.94 2.06-2.06.94z\"/><path d=\"M17.41 7.96l-1.37-1.37c-.4-.4-.92-.59-1.43-.59-.52 0-1.04.2-1.43.59L10.3 9.45l-7.72 7.72c-.78.78-.78 2.05 0 2.83L4 21.41c.39.39.9.59 1.41.59.51 0 1.02-.2 1.41-.59l7.78-7.78 2.81-2.81c.8-.78.8-2.07 0-2.86zM5.41 20L4 18.59l7.72-7.72 1.47 1.35L5.41 20z\"/>\n",
              "  </svg>\n",
              "      </button>\n",
              "      \n",
              "  <style>\n",
              "    .colab-df-container {\n",
              "      display:flex;\n",
              "      flex-wrap:wrap;\n",
              "      gap: 12px;\n",
              "    }\n",
              "\n",
              "    .colab-df-convert {\n",
              "      background-color: #E8F0FE;\n",
              "      border: none;\n",
              "      border-radius: 50%;\n",
              "      cursor: pointer;\n",
              "      display: none;\n",
              "      fill: #1967D2;\n",
              "      height: 32px;\n",
              "      padding: 0 0 0 0;\n",
              "      width: 32px;\n",
              "    }\n",
              "\n",
              "    .colab-df-convert:hover {\n",
              "      background-color: #E2EBFA;\n",
              "      box-shadow: 0px 1px 2px rgba(60, 64, 67, 0.3), 0px 1px 3px 1px rgba(60, 64, 67, 0.15);\n",
              "      fill: #174EA6;\n",
              "    }\n",
              "\n",
              "    [theme=dark] .colab-df-convert {\n",
              "      background-color: #3B4455;\n",
              "      fill: #D2E3FC;\n",
              "    }\n",
              "\n",
              "    [theme=dark] .colab-df-convert:hover {\n",
              "      background-color: #434B5C;\n",
              "      box-shadow: 0px 1px 3px 1px rgba(0, 0, 0, 0.15);\n",
              "      filter: drop-shadow(0px 1px 2px rgba(0, 0, 0, 0.3));\n",
              "      fill: #FFFFFF;\n",
              "    }\n",
              "  </style>\n",
              "\n",
              "      <script>\n",
              "        const buttonEl =\n",
              "          document.querySelector('#df-40faf688-e69e-49e5-8c6f-fc7b6ebe1820 button.colab-df-convert');\n",
              "        buttonEl.style.display =\n",
              "          google.colab.kernel.accessAllowed ? 'block' : 'none';\n",
              "\n",
              "        async function convertToInteractive(key) {\n",
              "          const element = document.querySelector('#df-40faf688-e69e-49e5-8c6f-fc7b6ebe1820');\n",
              "          const dataTable =\n",
              "            await google.colab.kernel.invokeFunction('convertToInteractive',\n",
              "                                                     [key], {});\n",
              "          if (!dataTable) return;\n",
              "\n",
              "          const docLinkHtml = 'Like what you see? Visit the ' +\n",
              "            '<a target=\"_blank\" href=https://colab.research.google.com/notebooks/data_table.ipynb>data table notebook</a>'\n",
              "            + ' to learn more about interactive tables.';\n",
              "          element.innerHTML = '';\n",
              "          dataTable['output_type'] = 'display_data';\n",
              "          await google.colab.output.renderOutput(dataTable, element);\n",
              "          const docLink = document.createElement('div');\n",
              "          docLink.innerHTML = docLinkHtml;\n",
              "          element.appendChild(docLink);\n",
              "        }\n",
              "      </script>\n",
              "    </div>\n",
              "  </div>\n",
              "  "
            ]
          },
          "metadata": {},
          "execution_count": 4
        }
      ]
    },
    {
      "cell_type": "code",
      "source": [
        "# Extract Colone Message\n",
        "\n",
        "Political_Data = pd.DataFrame(Political[\"Message\"])\n",
        "NA_Political_Data = pd.DataFrame(NA_Political[\"Message\"])"
      ],
      "metadata": {
        "id": "TZL-CpQrOrCO"
      },
      "execution_count": 10,
      "outputs": []
    },
    {
      "cell_type": "code",
      "source": [
        "# Drop Na Value\n",
        "\n",
        "Political_Data = Political_Data.dropna().reset_index(drop=True)\n",
        "NA_Political_Data = NA_Political_Data.dropna().reset_index(drop=True)"
      ],
      "metadata": {
        "id": "vQxb-kQHPByL"
      },
      "execution_count": 17,
      "outputs": []
    },
    {
      "cell_type": "code",
      "source": [
        "# Drop dims\n",
        "Political_Data = np.squeeze(Political_Data)\n",
        "NA_Political_Data = np.squeeze(NA_Political_Data)\n"
      ],
      "metadata": {
        "id": "mt5ZBWCcPzcJ"
      },
      "execution_count": 18,
      "outputs": []
    },
    {
      "cell_type": "code",
      "source": [
        "len(Political_Data)"
      ],
      "metadata": {
        "id": "reCEJMfvS0uh",
        "outputId": "3f252218-9ac2-4c54-aad8-ff15d493c36f",
        "colab": {
          "base_uri": "https://localhost:8080/"
        }
      },
      "execution_count": 33,
      "outputs": [
        {
          "output_type": "execute_result",
          "data": {
            "text/plain": [
              "2959"
            ]
          },
          "metadata": {},
          "execution_count": 33
        }
      ]
    },
    {
      "cell_type": "code",
      "source": [
        "# All Data\n",
        "\n",
        "lables_0 = np.asarray(np.zeros(len(NA_Political_Data)))\n",
        "lables_1 = np.asarray(np.ones(len(Political_Data)))\n",
        "lables = np.concatenate((lables_0,lables_1),axis=0) \n",
        "\n",
        "data = np.concatenate((NA_Political_Data,Political_Data),axis=0)\n",
        "\n",
        "from sklearn.utils import shuffle\n",
        "x, y = shuffle(data,lables, random_state=0)\n",
        "\n",
        "x = np.asarray(x)\n",
        "y = np.asarray(y)"
      ],
      "metadata": {
        "id": "GoGjsIk5RQdZ"
      },
      "execution_count": 51,
      "outputs": []
    },
    {
      "cell_type": "code",
      "source": [
        "x[1:20]"
      ],
      "metadata": {
        "id": "cSkVX21GUvTj",
        "outputId": "46214194-cee5-4866-b549-da5172a1a27e",
        "colab": {
          "base_uri": "https://localhost:8080/"
        }
      },
      "execution_count": 57,
      "outputs": [
        {
          "output_type": "execute_result",
          "data": {
            "text/plain": [
              "array(['في #الكبش_يدور تشطح بالمحارم فرحانة بعلوش العيد',\n",
              "       'ويتوقّع مزيد تدهورها',\n",
              "       '🔴 مواطن. يشد جوهر بن مبارك يمسح بيه القاعة وهو هارب 😂😂😂',\n",
              "       '🔴تنبيه : للإخوة و الأخوات الناشطين في #الجمعيات اللى يتصدقو بالخرفان🐏🐑 بطبيعة الحال موش من مالهم الخاص بل وسيط خير بين المتصدق و المحتاج من فضلكم من غير ما تمشيو في 20 واحد ولابسين مراول وجيليات عليها شعارات جمعياتكم وتوقفو قدام دار المسكين باش تعطوه العلوش ... وووو عيطو لمولى الدار يجي يهزو لولادو عبارة هو شراه بش يفرحو ولادو ومن غير ما تسببلو إحراج وتكسرو خاطر الراجل قدام ولادو ومرتو ومن غير لاجيليات ولا تصاور ولا إشهار بارك الله فيكم وربي يجازيكم بالإحسان ❤️❤️',\n",
              "       '🔴الإضراب العام لا يمثلني 16#جوان_يوم_عمل #تونس_فوق_الجميع ✌🇹🇳',\n",
              "       'انقلاب يبدد الأموال في سبيل تكريس كل السلطات بيد زعيم مستبد مريض بهوس السلطة.. قاطع ولا تكن شريكا في الجريمة',\n",
              "       '#سوسة :#حجز 3500 قرص \"إكستازي\" داخل\" لواج\"...التفاصيل في اول تعليق #بلاقناع #bilakinaa',\n",
              "       'وصول الرئيس راشد الغنوشي إلى قطب مكافحة الإرهاب بتونس 🇹🇳',\n",
              "       \"منى كريم: مشروع الدستور الجديد ''خطير''..\",\n",
              "       '🔴نور الدين البحيري 🔴قلبي وجعني على برشا على بلادي 🔴اكثر من 100 نائب ما عندوش باش يشري علوش لعيد و يفرح صغارو و عايلتوا.... 🤣🤣🤣🤣🤣🤣🤣🤣🤣🤣🤣🤣🤣🤣🤣🤣',\n",
              "       'سوسة: انتعاشة في مختلف المؤشّرات السياحية',\n",
              "       'ناس الكل تقوم تشطح على الفرحة متع تونس ايجاو فيسع شبيلية سنتر سوسة',\n",
              "       'منشور رئاسة الحكومة حول برنامج الإحالة على التقاعد قبل بلوغ السن القانونية',\n",
              "       '✅مهما كان الثمن لن أتخلى عن #الأمانة... ❤️حبة عرق واحدة منكم هي أمانة فى رقبتى ❤️✌️👌 قيس سعيد✍🇹🇳❤️🌹',\n",
              "       '#بلاغ حول انتداب مدّرسين لتدريس اللغة العربية والحضارة التونسية لأبناء التونسيين المقيمين بأوروبّا بالنسبة الى السنة الدراسية 2023/2022 http://www.administration.education.gov.tn/2022-07-04/59052022.pdf',\n",
              "       '#لا نخاف إلا الله ،ولدت على أرض تونس ،و سأموت فيها بمشيئة الله تعالى\"',\n",
              "       'خليل الرقيق : النهضة تتوجس و تحكي عالايقافات كل ما قربت المحاسبة تتفرجوا في الحلقة كاملة : https://youtu.be/xEmJdlr6Yrc',\n",
              "       'تلقاهم 24 ساعة يسمعوا في الراب عالرجلة ومع الـــ17hـــ يهبطوا يبراكيوا الناس الي تخدم على عايلاتها بش يشريوا حارتين بيرة 🙂',\n",
              "       'هل تذكرون يوم حاول قيس سعيد الاعتداء على مواطنين بالضرب ؟ #تونس_الان #أخبار_تونس #انقلاب_تونس'],\n",
              "      dtype=object)"
            ]
          },
          "metadata": {},
          "execution_count": 57
        }
      ]
    },
    {
      "cell_type": "code",
      "source": [
        "y[1:20]"
      ],
      "metadata": {
        "id": "XO0MpkdQU4rM",
        "outputId": "c61214aa-032f-48d8-c806-bd47ef2c6221",
        "colab": {
          "base_uri": "https://localhost:8080/"
        }
      },
      "execution_count": 56,
      "outputs": [
        {
          "output_type": "execute_result",
          "data": {
            "text/plain": [
              "array([0., 0., 1., 0., 1., 1., 0., 1., 1., 1., 0., 1., 0., 1., 0., 1., 1.,\n",
              "       0., 1.])"
            ]
          },
          "metadata": {},
          "execution_count": 56
        }
      ]
    },
    {
      "cell_type": "code",
      "source": [
        "##### Vectorizer :\n",
        "\n",
        "# Download Stop Words\n",
        "\n",
        "import nltk\n",
        "from nltk.corpus import stopwords\n",
        "\n",
        "nltk.download(\"stopwords\")\n",
        "arabic_stop_words = stopwords.words('arabic')\n",
        "\n",
        "\n",
        "l = ['آمين', 'أب', 'أخ', 'أفعل', 'أفعله', 'ؤلاء', 'إل', 'إم', 'ات', 'اتان', 'ارتد', 'ان', 'انفك', 'برح', 'تان', 'تبد', 'تحو', 'تعل', 'حد', 'حم', 'حي', 'خب', 'ذار', 'سيما', 'صه', 'ظل', 'ظن', 'عد', 'قط', 'مر', 'مكان', 'مكانكن', 'نب', 'هات', 'هب', 'واها', 'وراء']\n",
        "arabic_stop_words = np.concatenate((arabic_stop_words,l),axis=0)\n",
        "\n",
        "print(arabic_stop_words)\n"
      ],
      "metadata": {
        "id": "XqZgsbEoQtUd",
        "outputId": "6492a2fa-593b-47ec-f104-908ff5ad2f96",
        "colab": {
          "base_uri": "https://localhost:8080/"
        }
      },
      "execution_count": 116,
      "outputs": [
        {
          "output_type": "stream",
          "name": "stdout",
          "text": [
            "['إذ' 'إذا' 'إذما' 'إذن' 'أف' 'أقل' 'أكثر' 'ألا' 'إلا' 'التي' 'الذي'\n",
            " 'الذين' 'اللاتي' 'اللائي' 'اللتان' 'اللتيا' 'اللتين' 'اللذان' 'اللذين'\n",
            " 'اللواتي' 'إلى' 'إليك' 'إليكم' 'إليكما' 'إليكن' 'أم' 'أما' 'أما' 'إما'\n",
            " 'أن' 'إن' 'إنا' 'أنا' 'أنت' 'أنتم' 'أنتما' 'أنتن' 'إنما' 'إنه' 'أنى'\n",
            " 'أنى' 'آه' 'آها' 'أو' 'أولاء' 'أولئك' 'أوه' 'آي' 'أي' 'أيها' 'إي' 'أين'\n",
            " 'أين' 'أينما' 'إيه' 'بخ' 'بس' 'بعد' 'بعض' 'بك' 'بكم' 'بكم' 'بكما' 'بكن'\n",
            " 'بل' 'بلى' 'بما' 'بماذا' 'بمن' 'بنا' 'به' 'بها' 'بهم' 'بهما' 'بهن' 'بي'\n",
            " 'بين' 'بيد' 'تلك' 'تلكم' 'تلكما' 'ته' 'تي' 'تين' 'تينك' 'ثم' 'ثمة' 'حاشا'\n",
            " 'حبذا' 'حتى' 'حيث' 'حيثما' 'حين' 'خلا' 'دون' 'ذا' 'ذات' 'ذاك' 'ذان'\n",
            " 'ذانك' 'ذلك' 'ذلكم' 'ذلكما' 'ذلكن' 'ذه' 'ذو' 'ذوا' 'ذواتا' 'ذواتي' 'ذي'\n",
            " 'ذين' 'ذينك' 'ريث' 'سوف' 'سوى' 'شتان' 'عدا' 'عسى' 'عل' 'على' 'عليك'\n",
            " 'عليه' 'عما' 'عن' 'عند' 'غير' 'فإذا' 'فإن' 'فلا' 'فمن' 'في' 'فيم' 'فيما'\n",
            " 'فيه' 'فيها' 'قد' 'كأن' 'كأنما' 'كأي' 'كأين' 'كذا' 'كذلك' 'كل' 'كلا'\n",
            " 'كلاهما' 'كلتا' 'كلما' 'كليكما' 'كليهما' 'كم' 'كم' 'كما' 'كي' 'كيت' 'كيف'\n",
            " 'كيفما' 'لا' 'لاسيما' 'لدى' 'لست' 'لستم' 'لستما' 'لستن' 'لسن' 'لسنا'\n",
            " 'لعل' 'لك' 'لكم' 'لكما' 'لكن' 'لكنما' 'لكي' 'لكيلا' 'لم' 'لما' 'لن' 'لنا'\n",
            " 'له' 'لها' 'لهم' 'لهما' 'لهن' 'لو' 'لولا' 'لوما' 'لي' 'لئن' 'ليت' 'ليس'\n",
            " 'ليسا' 'ليست' 'ليستا' 'ليسوا' 'ما' 'ماذا' 'متى' 'مذ' 'مع' 'مما' 'ممن'\n",
            " 'من' 'منه' 'منها' 'منذ' 'مه' 'مهما' 'نحن' 'نحو' 'نعم' 'ها' 'هاتان' 'هاته'\n",
            " 'هاتي' 'هاتين' 'هاك' 'هاهنا' 'هذا' 'هذان' 'هذه' 'هذي' 'هذين' 'هكذا' 'هل'\n",
            " 'هلا' 'هم' 'هما' 'هن' 'هنا' 'هناك' 'هنالك' 'هو' 'هؤلاء' 'هي' 'هيا' 'هيت'\n",
            " 'هيهات' 'والذي' 'والذين' 'وإذ' 'وإذا' 'وإن' 'ولا' 'ولكن' 'ولو' 'وما'\n",
            " 'ومن' 'وهو' 'يا' 'أبٌ' 'أخٌ' 'حمٌ' 'فو' 'أنتِ' 'يناير' 'فبراير' 'مارس'\n",
            " 'أبريل' 'مايو' 'يونيو' 'يوليو' 'أغسطس' 'سبتمبر' 'أكتوبر' 'نوفمبر'\n",
            " 'ديسمبر' 'جانفي' 'فيفري' 'مارس' 'أفريل' 'ماي' 'جوان' 'جويلية' 'أوت'\n",
            " 'كانون' 'شباط' 'آذار' 'نيسان' 'أيار' 'حزيران' 'تموز' 'آب' 'أيلول' 'تشرين'\n",
            " 'دولار' 'دينار' 'ريال' 'درهم' 'ليرة' 'جنيه' 'قرش' 'مليم' 'فلس' 'هللة'\n",
            " 'سنتيم' 'يورو' 'ين' 'يوان' 'شيكل' 'واحد' 'اثنان' 'ثلاثة' 'أربعة' 'خمسة'\n",
            " 'ستة' 'سبعة' 'ثمانية' 'تسعة' 'عشرة' 'أحد' 'اثنا' 'اثني' 'إحدى' 'ثلاث'\n",
            " 'أربع' 'خمس' 'ست' 'سبع' 'ثماني' 'تسع' 'عشر' 'ثمان' 'سبت' 'أحد' 'اثنين'\n",
            " 'ثلاثاء' 'أربعاء' 'خميس' 'جمعة' 'أول' 'ثان' 'ثاني' 'ثالث' 'رابع' 'خامس'\n",
            " 'سادس' 'سابع' 'ثامن' 'تاسع' 'عاشر' 'حادي' 'أ' 'ب' 'ت' 'ث' 'ج' 'ح' 'خ' 'د'\n",
            " 'ذ' 'ر' 'ز' 'س' 'ش' 'ص' 'ض' 'ط' 'ظ' 'ع' 'غ' 'ف' 'ق' 'ك' 'ل' 'م' 'ن' 'ه'\n",
            " 'و' 'ي' 'ء' 'ى' 'آ' 'ؤ' 'ئ' 'أ' 'ة' 'ألف' 'باء' 'تاء' 'ثاء' 'جيم' 'حاء'\n",
            " 'خاء' 'دال' 'ذال' 'راء' 'زاي' 'سين' 'شين' 'صاد' 'ضاد' 'طاء' 'ظاء' 'عين'\n",
            " 'غين' 'فاء' 'قاف' 'كاف' 'لام' 'ميم' 'نون' 'هاء' 'واو' 'ياء' 'همزة' 'ي'\n",
            " 'نا' 'ك' 'كن' 'ه' 'إياه' 'إياها' 'إياهما' 'إياهم' 'إياهن' 'إياك' 'إياكما'\n",
            " 'إياكم' 'إياك' 'إياكن' 'إياي' 'إيانا' 'أولالك' 'تانِ' 'تانِك' 'تِه' 'تِي'\n",
            " 'تَيْنِ' 'ثمّ' 'ثمّة' 'ذانِ' 'ذِه' 'ذِي' 'ذَيْنِ' 'هَؤلاء' 'هَاتانِ'\n",
            " 'هَاتِه' 'هَاتِي' 'هَاتَيْنِ' 'هَذا' 'هَذانِ' 'هَذِه' 'هَذِي' 'هَذَيْنِ'\n",
            " 'الألى' 'الألاء' 'أل' 'أنّى' 'أيّ' 'ّأيّان' 'أنّى' 'أيّ' 'ّأيّان' 'ذيت'\n",
            " 'كأيّ' 'كأيّن' 'بضع' 'فلان' 'وا' 'آمينَ' 'آهِ' 'آهٍ' 'آهاً' 'أُفٍّ'\n",
            " 'أُفٍّ' 'أفٍّ' 'أمامك' 'أمامكَ' 'أوّهْ' 'إلَيْكَ' 'إلَيْكَ' 'إليكَ'\n",
            " 'إليكنّ' 'إيهٍ' 'بخٍ' 'بسّ' 'بَسْ' 'بطآن' 'بَلْهَ' 'حاي' 'حَذارِ' 'حيَّ'\n",
            " 'حيَّ' 'دونك' 'رويدك' 'سرعان' 'شتانَ' 'شَتَّانَ' 'صهْ' 'صهٍ' 'طاق' 'طَق'\n",
            " 'عَدَسْ' 'كِخ' 'مكانَك' 'مكانَك' 'مكانَك' 'مكانكم' 'مكانكما' 'مكانكنّ'\n",
            " 'نَخْ' 'هاكَ' 'هَجْ' 'هلم' 'هيّا' 'هَيْهات' 'وا' 'واهاً' 'وراءَك'\n",
            " 'وُشْكَانَ' 'وَيْ' 'يفعلان' 'تفعلان' 'يفعلون' 'تفعلون' 'تفعلين' 'اتخذ'\n",
            " 'ألفى' 'تخذ' 'ترك' 'تعلَّم' 'جعل' 'حجا' 'حبيب' 'خال' 'حسب' 'خال' 'درى'\n",
            " 'رأى' 'زعم' 'صبر' 'ظنَّ' 'عدَّ' 'علم' 'غادر' 'ذهب' 'وجد' 'ورد' 'وهب'\n",
            " 'أسكن' 'أطعم' 'أعطى' 'رزق' 'زود' 'سقى' 'كسا' 'أخبر' 'أرى' 'أعلم' 'أنبأ'\n",
            " 'حدَث' 'خبَّر' 'نبَّا' 'أفعل به' 'ما أفعله' 'بئس' 'ساء' 'طالما' 'قلما'\n",
            " 'لات' 'لكنَّ' 'ءَ' 'أجل' 'إذاً' 'أمّا' 'إمّا' 'إنَّ' 'أنًّ' 'أى' 'إى'\n",
            " 'أيا' 'ب' 'ثمَّ' 'جلل' 'جير' 'رُبَّ' 'س' 'علًّ' 'ف' 'كأنّ' 'كلَّا' 'كى'\n",
            " 'ل' 'لات' 'لعلَّ' 'لكنَّ' 'لكنَّ' 'م' 'نَّ' 'هلّا' 'وا' 'أل' 'إلّا' 'ت'\n",
            " 'ك' 'لمّا' 'ن' 'ه' 'و' 'ا' 'ي' 'تجاه' 'تلقاء' 'جميع' 'حسب' 'سبحان' 'شبه'\n",
            " 'لعمر' 'مثل' 'معاذ' 'أبو' 'أخو' 'حمو' 'فو' 'مئة' 'مئتان' 'ثلاثمئة'\n",
            " 'أربعمئة' 'خمسمئة' 'ستمئة' 'سبعمئة' 'ثمنمئة' 'تسعمئة' 'مائة' 'ثلاثمائة'\n",
            " 'أربعمائة' 'خمسمائة' 'ستمائة' 'سبعمائة' 'ثمانمئة' 'تسعمائة' 'عشرون'\n",
            " 'ثلاثون' 'اربعون' 'خمسون' 'ستون' 'سبعون' 'ثمانون' 'تسعون' 'عشرين'\n",
            " 'ثلاثين' 'اربعين' 'خمسين' 'ستين' 'سبعين' 'ثمانين' 'تسعين' 'بضع' 'نيف'\n",
            " 'أجمع' 'جميع' 'عامة' 'عين' 'نفس' 'لا سيما' 'أصلا' 'أهلا' 'أيضا' 'بؤسا'\n",
            " 'بعدا' 'بغتة' 'تعسا' 'حقا' 'حمدا' 'خلافا' 'خاصة' 'دواليك' 'سحقا' 'سرا'\n",
            " 'سمعا' 'صبرا' 'صدقا' 'صراحة' 'طرا' 'عجبا' 'عيانا' 'غالبا' 'فرادى' 'فضلا'\n",
            " 'قاطبة' 'كثيرا' 'لبيك' 'معاذ' 'أبدا' 'إزاء' 'أصلا' 'الآن' 'أمد' 'أمس'\n",
            " 'آنفا' 'آناء' 'أنّى' 'أول' 'أيّان' 'تارة' 'ثمّ' 'ثمّة' 'حقا' 'صباح'\n",
            " 'مساء' 'ضحوة' 'عوض' 'غدا' 'غداة' 'قطّ' 'كلّما' 'لدن' 'لمّا' 'مرّة' 'قبل'\n",
            " 'خلف' 'أمام' 'فوق' 'تحت' 'يمين' 'شمال' 'ارتدّ' 'استحال' 'أصبح' 'أضحى'\n",
            " 'آض' 'أمسى' 'انقلب' 'بات' 'تبدّل' 'تحوّل' 'حار' 'رجع' 'راح' 'صار' 'ظلّ'\n",
            " 'عاد' 'غدا' 'كان' 'ما انفك' 'ما برح' 'مادام' 'مازال' 'مافتئ' 'ابتدأ'\n",
            " 'أخذ' 'اخلولق' 'أقبل' 'انبرى' 'أنشأ' 'أوشك' 'جعل' 'حرى' 'شرع' 'طفق' 'علق'\n",
            " 'قام' 'كرب' 'كاد' 'هبّ' 'آمين' 'أب' 'أخ' 'أفعل' 'أفعله' 'ؤلاء' 'إل' 'إم'\n",
            " 'ات' 'اتان' 'ارتد' 'ان' 'انفك' 'برح' 'تان' 'تبد' 'تحو' 'تعل' 'حد' 'حم'\n",
            " 'حي' 'خب' 'ذار' 'سيما' 'صه' 'ظل' 'ظن' 'عد' 'قط' 'مر' 'مكان' 'مكانكن' 'نب'\n",
            " 'هات' 'هب' 'واها' 'وراء']\n"
          ]
        },
        {
          "output_type": "stream",
          "name": "stderr",
          "text": [
            "[nltk_data] Downloading package stopwords to /root/nltk_data...\n",
            "[nltk_data]   Package stopwords is already up-to-date!\n"
          ]
        }
      ]
    },
    {
      "cell_type": "code",
      "source": [
        "from sklearn.feature_extraction.text import TfidfVectorizer\n",
        "vectorizer = TfidfVectorizer(stop_words=arabic_stop_words,strip_accents=\"unicode\",use_idf= False)\n",
        "\n",
        "df =pd.DataFrame( vectorizer.fit_transform(data).toarray(),columns=vectorizer.get_feature_names())\n",
        "\n"
      ],
      "metadata": {
        "id": "hgNoKW7VV9_3",
        "outputId": "879905a3-da86-49e8-84bb-3de7c73a0706",
        "colab": {
          "base_uri": "https://localhost:8080/",
          "height": 363
        }
      },
      "execution_count": 117,
      "outputs": [
        {
          "output_type": "error",
          "ename": "ValueError",
          "evalue": "ignored",
          "traceback": [
            "\u001b[0;31m---------------------------------------------------------------------------\u001b[0m",
            "\u001b[0;31mValueError\u001b[0m                                Traceback (most recent call last)",
            "\u001b[0;32m<ipython-input-117-af2e291ccf56>\u001b[0m in \u001b[0;36m<module>\u001b[0;34m\u001b[0m\n\u001b[1;32m      2\u001b[0m \u001b[0mvectorizer\u001b[0m \u001b[0;34m=\u001b[0m \u001b[0mTfidfVectorizer\u001b[0m\u001b[0;34m(\u001b[0m\u001b[0mstop_words\u001b[0m\u001b[0;34m=\u001b[0m\u001b[0marabic_stop_words\u001b[0m\u001b[0;34m,\u001b[0m\u001b[0mstrip_accents\u001b[0m\u001b[0;34m=\u001b[0m\u001b[0;34m\"unicode\"\u001b[0m\u001b[0;34m,\u001b[0m\u001b[0muse_idf\u001b[0m\u001b[0;34m=\u001b[0m \u001b[0;32mFalse\u001b[0m\u001b[0;34m)\u001b[0m\u001b[0;34m\u001b[0m\u001b[0;34m\u001b[0m\u001b[0m\n\u001b[1;32m      3\u001b[0m \u001b[0;34m\u001b[0m\u001b[0m\n\u001b[0;32m----> 4\u001b[0;31m \u001b[0mdf\u001b[0m \u001b[0;34m=\u001b[0m\u001b[0mpd\u001b[0m\u001b[0;34m.\u001b[0m\u001b[0mDataFrame\u001b[0m\u001b[0;34m(\u001b[0m \u001b[0mvectorizer\u001b[0m\u001b[0;34m.\u001b[0m\u001b[0mfit_transform\u001b[0m\u001b[0;34m(\u001b[0m\u001b[0mdata\u001b[0m\u001b[0;34m)\u001b[0m\u001b[0;34m.\u001b[0m\u001b[0mtoarray\u001b[0m\u001b[0;34m(\u001b[0m\u001b[0;34m)\u001b[0m\u001b[0;34m,\u001b[0m\u001b[0mcolumns\u001b[0m\u001b[0;34m=\u001b[0m\u001b[0mvectorizer\u001b[0m\u001b[0;34m.\u001b[0m\u001b[0mget_feature_names\u001b[0m\u001b[0;34m(\u001b[0m\u001b[0;34m)\u001b[0m\u001b[0;34m)\u001b[0m\u001b[0;34m\u001b[0m\u001b[0;34m\u001b[0m\u001b[0m\n\u001b[0m\u001b[1;32m      5\u001b[0m \u001b[0;34m\u001b[0m\u001b[0m\n",
            "\u001b[0;32m/usr/local/lib/python3.7/dist-packages/sklearn/feature_extraction/text.py\u001b[0m in \u001b[0;36mfit_transform\u001b[0;34m(self, raw_documents, y)\u001b[0m\n\u001b[1;32m   2075\u001b[0m         \"\"\"\n\u001b[1;32m   2076\u001b[0m         \u001b[0mself\u001b[0m\u001b[0;34m.\u001b[0m\u001b[0m_check_params\u001b[0m\u001b[0;34m(\u001b[0m\u001b[0;34m)\u001b[0m\u001b[0;34m\u001b[0m\u001b[0;34m\u001b[0m\u001b[0m\n\u001b[0;32m-> 2077\u001b[0;31m         \u001b[0mX\u001b[0m \u001b[0;34m=\u001b[0m \u001b[0msuper\u001b[0m\u001b[0;34m(\u001b[0m\u001b[0;34m)\u001b[0m\u001b[0;34m.\u001b[0m\u001b[0mfit_transform\u001b[0m\u001b[0;34m(\u001b[0m\u001b[0mraw_documents\u001b[0m\u001b[0;34m)\u001b[0m\u001b[0;34m\u001b[0m\u001b[0;34m\u001b[0m\u001b[0m\n\u001b[0m\u001b[1;32m   2078\u001b[0m         \u001b[0mself\u001b[0m\u001b[0;34m.\u001b[0m\u001b[0m_tfidf\u001b[0m\u001b[0;34m.\u001b[0m\u001b[0mfit\u001b[0m\u001b[0;34m(\u001b[0m\u001b[0mX\u001b[0m\u001b[0;34m)\u001b[0m\u001b[0;34m\u001b[0m\u001b[0;34m\u001b[0m\u001b[0m\n\u001b[1;32m   2079\u001b[0m         \u001b[0;31m# X is already a transformed view of raw_documents so\u001b[0m\u001b[0;34m\u001b[0m\u001b[0;34m\u001b[0m\u001b[0;34m\u001b[0m\u001b[0m\n",
            "\u001b[0;32m/usr/local/lib/python3.7/dist-packages/sklearn/feature_extraction/text.py\u001b[0m in \u001b[0;36mfit_transform\u001b[0;34m(self, raw_documents, y)\u001b[0m\n\u001b[1;32m   1328\u001b[0m                     \u001b[0;32mbreak\u001b[0m\u001b[0;34m\u001b[0m\u001b[0;34m\u001b[0m\u001b[0m\n\u001b[1;32m   1329\u001b[0m \u001b[0;34m\u001b[0m\u001b[0m\n\u001b[0;32m-> 1330\u001b[0;31m         \u001b[0mvocabulary\u001b[0m\u001b[0;34m,\u001b[0m \u001b[0mX\u001b[0m \u001b[0;34m=\u001b[0m \u001b[0mself\u001b[0m\u001b[0;34m.\u001b[0m\u001b[0m_count_vocab\u001b[0m\u001b[0;34m(\u001b[0m\u001b[0mraw_documents\u001b[0m\u001b[0;34m,\u001b[0m \u001b[0mself\u001b[0m\u001b[0;34m.\u001b[0m\u001b[0mfixed_vocabulary_\u001b[0m\u001b[0;34m)\u001b[0m\u001b[0;34m\u001b[0m\u001b[0;34m\u001b[0m\u001b[0m\n\u001b[0m\u001b[1;32m   1331\u001b[0m \u001b[0;34m\u001b[0m\u001b[0m\n\u001b[1;32m   1332\u001b[0m         \u001b[0;32mif\u001b[0m \u001b[0mself\u001b[0m\u001b[0;34m.\u001b[0m\u001b[0mbinary\u001b[0m\u001b[0;34m:\u001b[0m\u001b[0;34m\u001b[0m\u001b[0;34m\u001b[0m\u001b[0m\n",
            "\u001b[0;32m/usr/local/lib/python3.7/dist-packages/sklearn/feature_extraction/text.py\u001b[0m in \u001b[0;36m_count_vocab\u001b[0;34m(self, raw_documents, fixed_vocab)\u001b[0m\n\u001b[1;32m   1191\u001b[0m             \u001b[0mvocabulary\u001b[0m\u001b[0;34m.\u001b[0m\u001b[0mdefault_factory\u001b[0m \u001b[0;34m=\u001b[0m \u001b[0mvocabulary\u001b[0m\u001b[0;34m.\u001b[0m\u001b[0m__len__\u001b[0m\u001b[0;34m\u001b[0m\u001b[0;34m\u001b[0m\u001b[0m\n\u001b[1;32m   1192\u001b[0m \u001b[0;34m\u001b[0m\u001b[0m\n\u001b[0;32m-> 1193\u001b[0;31m         \u001b[0manalyze\u001b[0m \u001b[0;34m=\u001b[0m \u001b[0mself\u001b[0m\u001b[0;34m.\u001b[0m\u001b[0mbuild_analyzer\u001b[0m\u001b[0;34m(\u001b[0m\u001b[0;34m)\u001b[0m\u001b[0;34m\u001b[0m\u001b[0;34m\u001b[0m\u001b[0m\n\u001b[0m\u001b[1;32m   1194\u001b[0m         \u001b[0mj_indices\u001b[0m \u001b[0;34m=\u001b[0m \u001b[0;34m[\u001b[0m\u001b[0;34m]\u001b[0m\u001b[0;34m\u001b[0m\u001b[0;34m\u001b[0m\u001b[0m\n\u001b[1;32m   1195\u001b[0m         \u001b[0mindptr\u001b[0m \u001b[0;34m=\u001b[0m \u001b[0;34m[\u001b[0m\u001b[0;34m]\u001b[0m\u001b[0;34m\u001b[0m\u001b[0;34m\u001b[0m\u001b[0m\n",
            "\u001b[0;32m/usr/local/lib/python3.7/dist-packages/sklearn/feature_extraction/text.py\u001b[0m in \u001b[0;36mbuild_analyzer\u001b[0;34m(self)\u001b[0m\n\u001b[1;32m    444\u001b[0m \u001b[0;34m\u001b[0m\u001b[0m\n\u001b[1;32m    445\u001b[0m         \u001b[0;32melif\u001b[0m \u001b[0mself\u001b[0m\u001b[0;34m.\u001b[0m\u001b[0manalyzer\u001b[0m \u001b[0;34m==\u001b[0m \u001b[0;34m\"word\"\u001b[0m\u001b[0;34m:\u001b[0m\u001b[0;34m\u001b[0m\u001b[0;34m\u001b[0m\u001b[0m\n\u001b[0;32m--> 446\u001b[0;31m             \u001b[0mstop_words\u001b[0m \u001b[0;34m=\u001b[0m \u001b[0mself\u001b[0m\u001b[0;34m.\u001b[0m\u001b[0mget_stop_words\u001b[0m\u001b[0;34m(\u001b[0m\u001b[0;34m)\u001b[0m\u001b[0;34m\u001b[0m\u001b[0;34m\u001b[0m\u001b[0m\n\u001b[0m\u001b[1;32m    447\u001b[0m             \u001b[0mtokenize\u001b[0m \u001b[0;34m=\u001b[0m \u001b[0mself\u001b[0m\u001b[0;34m.\u001b[0m\u001b[0mbuild_tokenizer\u001b[0m\u001b[0;34m(\u001b[0m\u001b[0;34m)\u001b[0m\u001b[0;34m\u001b[0m\u001b[0;34m\u001b[0m\u001b[0m\n\u001b[1;32m    448\u001b[0m             \u001b[0mself\u001b[0m\u001b[0;34m.\u001b[0m\u001b[0m_check_stop_words_consistency\u001b[0m\u001b[0;34m(\u001b[0m\u001b[0mstop_words\u001b[0m\u001b[0;34m,\u001b[0m \u001b[0mpreprocess\u001b[0m\u001b[0;34m,\u001b[0m \u001b[0mtokenize\u001b[0m\u001b[0;34m)\u001b[0m\u001b[0;34m\u001b[0m\u001b[0;34m\u001b[0m\u001b[0m\n",
            "\u001b[0;32m/usr/local/lib/python3.7/dist-packages/sklearn/feature_extraction/text.py\u001b[0m in \u001b[0;36mget_stop_words\u001b[0;34m(self)\u001b[0m\n\u001b[1;32m    366\u001b[0m                 \u001b[0mA\u001b[0m \u001b[0mlist\u001b[0m \u001b[0mof\u001b[0m \u001b[0mstop\u001b[0m \u001b[0mwords\u001b[0m\u001b[0;34m.\u001b[0m\u001b[0;34m\u001b[0m\u001b[0;34m\u001b[0m\u001b[0m\n\u001b[1;32m    367\u001b[0m         \"\"\"\n\u001b[0;32m--> 368\u001b[0;31m         \u001b[0;32mreturn\u001b[0m \u001b[0m_check_stop_list\u001b[0m\u001b[0;34m(\u001b[0m\u001b[0mself\u001b[0m\u001b[0;34m.\u001b[0m\u001b[0mstop_words\u001b[0m\u001b[0;34m)\u001b[0m\u001b[0;34m\u001b[0m\u001b[0;34m\u001b[0m\u001b[0m\n\u001b[0m\u001b[1;32m    369\u001b[0m \u001b[0;34m\u001b[0m\u001b[0m\n\u001b[1;32m    370\u001b[0m     \u001b[0;32mdef\u001b[0m \u001b[0m_check_stop_words_consistency\u001b[0m\u001b[0;34m(\u001b[0m\u001b[0mself\u001b[0m\u001b[0;34m,\u001b[0m \u001b[0mstop_words\u001b[0m\u001b[0;34m,\u001b[0m \u001b[0mpreprocess\u001b[0m\u001b[0;34m,\u001b[0m \u001b[0mtokenize\u001b[0m\u001b[0;34m)\u001b[0m\u001b[0;34m:\u001b[0m\u001b[0;34m\u001b[0m\u001b[0;34m\u001b[0m\u001b[0m\n",
            "\u001b[0;32m/usr/local/lib/python3.7/dist-packages/sklearn/feature_extraction/text.py\u001b[0m in \u001b[0;36m_check_stop_list\u001b[0;34m(stop)\u001b[0m\n\u001b[1;32m    183\u001b[0m \u001b[0;34m\u001b[0m\u001b[0m\n\u001b[1;32m    184\u001b[0m \u001b[0;32mdef\u001b[0m \u001b[0m_check_stop_list\u001b[0m\u001b[0;34m(\u001b[0m\u001b[0mstop\u001b[0m\u001b[0;34m)\u001b[0m\u001b[0;34m:\u001b[0m\u001b[0;34m\u001b[0m\u001b[0;34m\u001b[0m\u001b[0m\n\u001b[0;32m--> 185\u001b[0;31m     \u001b[0;32mif\u001b[0m \u001b[0mstop\u001b[0m \u001b[0;34m==\u001b[0m \u001b[0;34m\"english\"\u001b[0m\u001b[0;34m:\u001b[0m\u001b[0;34m\u001b[0m\u001b[0;34m\u001b[0m\u001b[0m\n\u001b[0m\u001b[1;32m    186\u001b[0m         \u001b[0;32mreturn\u001b[0m \u001b[0mENGLISH_STOP_WORDS\u001b[0m\u001b[0;34m\u001b[0m\u001b[0;34m\u001b[0m\u001b[0m\n\u001b[1;32m    187\u001b[0m     \u001b[0;32melif\u001b[0m \u001b[0misinstance\u001b[0m\u001b[0;34m(\u001b[0m\u001b[0mstop\u001b[0m\u001b[0;34m,\u001b[0m \u001b[0mstr\u001b[0m\u001b[0;34m)\u001b[0m\u001b[0;34m:\u001b[0m\u001b[0;34m\u001b[0m\u001b[0;34m\u001b[0m\u001b[0m\n",
            "\u001b[0;31mValueError\u001b[0m: The truth value of an array with more than one element is ambiguous. Use a.any() or a.all()"
          ]
        }
      ]
    },
    {
      "cell_type": "code",
      "source": [
        "df.columns"
      ],
      "metadata": {
        "id": "Y5wH8h01YyIT",
        "outputId": "fbcf2813-75a8-4018-b132-1aca3e3491a9",
        "colab": {
          "base_uri": "https://localhost:8080/"
        }
      },
      "execution_count": 115,
      "outputs": [
        {
          "output_type": "execute_result",
          "data": {
            "text/plain": [
              "Index(['00', '00h10', '00h30', '00h40', '00h45', '00h50', '00س', '01', '019',\n",
              "       '01h',\n",
              "       ...\n",
              "       'ڨدحة', 'ڨراج', 'ڨرنك', 'ڨرنو', 'ڨفصة', 'ڨلبي', 'ڨلت', 'کيفية', 'ᴀʏᴍᴀɴ',\n",
              "       'ᴅᴀʜᴍᴀɴ'],\n",
              "      dtype='object', length=36263)"
            ]
          },
          "metadata": {},
          "execution_count": 115
        }
      ]
    },
    {
      "cell_type": "code",
      "source": [
        "df.head(1)"
      ],
      "metadata": {
        "id": "mKhfVHiCY-Ru",
        "outputId": "c32a33bc-0eed-491a-e583-7464d758b932",
        "colab": {
          "base_uri": "https://localhost:8080/",
          "height": 110
        }
      },
      "execution_count": 102,
      "outputs": [
        {
          "output_type": "execute_result",
          "data": {
            "text/plain": [
              "    00  00h10  00h30  00h40  00h45  00h50   01  019  01h  01h10  ...  \\\n",
              "0  0.0    0.0    0.0    0.0    0.0    0.0  0.0  0.0  0.0    0.0  ...   \n",
              "\n",
              "   zarrouki  zarzis  zeeeed  zeyyd  ziad  zina  zmnarw4uy  zone  zones  zouzou  \n",
              "0       0.0     0.0     0.0    0.0   0.0   0.0        0.0   0.0    0.0     0.0  \n",
              "\n",
              "[1 rows x 2583 columns]"
            ],
            "text/html": [
              "\n",
              "  <div id=\"df-5bde91f9-466c-42d1-999d-c2f823699558\">\n",
              "    <div class=\"colab-df-container\">\n",
              "      <div>\n",
              "<style scoped>\n",
              "    .dataframe tbody tr th:only-of-type {\n",
              "        vertical-align: middle;\n",
              "    }\n",
              "\n",
              "    .dataframe tbody tr th {\n",
              "        vertical-align: top;\n",
              "    }\n",
              "\n",
              "    .dataframe thead th {\n",
              "        text-align: right;\n",
              "    }\n",
              "</style>\n",
              "<table border=\"1\" class=\"dataframe\">\n",
              "  <thead>\n",
              "    <tr style=\"text-align: right;\">\n",
              "      <th></th>\n",
              "      <th>00</th>\n",
              "      <th>00h10</th>\n",
              "      <th>00h30</th>\n",
              "      <th>00h40</th>\n",
              "      <th>00h45</th>\n",
              "      <th>00h50</th>\n",
              "      <th>01</th>\n",
              "      <th>019</th>\n",
              "      <th>01h</th>\n",
              "      <th>01h10</th>\n",
              "      <th>...</th>\n",
              "      <th>zarrouki</th>\n",
              "      <th>zarzis</th>\n",
              "      <th>zeeeed</th>\n",
              "      <th>zeyyd</th>\n",
              "      <th>ziad</th>\n",
              "      <th>zina</th>\n",
              "      <th>zmnarw4uy</th>\n",
              "      <th>zone</th>\n",
              "      <th>zones</th>\n",
              "      <th>zouzou</th>\n",
              "    </tr>\n",
              "  </thead>\n",
              "  <tbody>\n",
              "    <tr>\n",
              "      <th>0</th>\n",
              "      <td>0.0</td>\n",
              "      <td>0.0</td>\n",
              "      <td>0.0</td>\n",
              "      <td>0.0</td>\n",
              "      <td>0.0</td>\n",
              "      <td>0.0</td>\n",
              "      <td>0.0</td>\n",
              "      <td>0.0</td>\n",
              "      <td>0.0</td>\n",
              "      <td>0.0</td>\n",
              "      <td>...</td>\n",
              "      <td>0.0</td>\n",
              "      <td>0.0</td>\n",
              "      <td>0.0</td>\n",
              "      <td>0.0</td>\n",
              "      <td>0.0</td>\n",
              "      <td>0.0</td>\n",
              "      <td>0.0</td>\n",
              "      <td>0.0</td>\n",
              "      <td>0.0</td>\n",
              "      <td>0.0</td>\n",
              "    </tr>\n",
              "  </tbody>\n",
              "</table>\n",
              "<p>1 rows × 2583 columns</p>\n",
              "</div>\n",
              "      <button class=\"colab-df-convert\" onclick=\"convertToInteractive('df-5bde91f9-466c-42d1-999d-c2f823699558')\"\n",
              "              title=\"Convert this dataframe to an interactive table.\"\n",
              "              style=\"display:none;\">\n",
              "        \n",
              "  <svg xmlns=\"http://www.w3.org/2000/svg\" height=\"24px\"viewBox=\"0 0 24 24\"\n",
              "       width=\"24px\">\n",
              "    <path d=\"M0 0h24v24H0V0z\" fill=\"none\"/>\n",
              "    <path d=\"M18.56 5.44l.94 2.06.94-2.06 2.06-.94-2.06-.94-.94-2.06-.94 2.06-2.06.94zm-11 1L8.5 8.5l.94-2.06 2.06-.94-2.06-.94L8.5 2.5l-.94 2.06-2.06.94zm10 10l.94 2.06.94-2.06 2.06-.94-2.06-.94-.94-2.06-.94 2.06-2.06.94z\"/><path d=\"M17.41 7.96l-1.37-1.37c-.4-.4-.92-.59-1.43-.59-.52 0-1.04.2-1.43.59L10.3 9.45l-7.72 7.72c-.78.78-.78 2.05 0 2.83L4 21.41c.39.39.9.59 1.41.59.51 0 1.02-.2 1.41-.59l7.78-7.78 2.81-2.81c.8-.78.8-2.07 0-2.86zM5.41 20L4 18.59l7.72-7.72 1.47 1.35L5.41 20z\"/>\n",
              "  </svg>\n",
              "      </button>\n",
              "      \n",
              "  <style>\n",
              "    .colab-df-container {\n",
              "      display:flex;\n",
              "      flex-wrap:wrap;\n",
              "      gap: 12px;\n",
              "    }\n",
              "\n",
              "    .colab-df-convert {\n",
              "      background-color: #E8F0FE;\n",
              "      border: none;\n",
              "      border-radius: 50%;\n",
              "      cursor: pointer;\n",
              "      display: none;\n",
              "      fill: #1967D2;\n",
              "      height: 32px;\n",
              "      padding: 0 0 0 0;\n",
              "      width: 32px;\n",
              "    }\n",
              "\n",
              "    .colab-df-convert:hover {\n",
              "      background-color: #E2EBFA;\n",
              "      box-shadow: 0px 1px 2px rgba(60, 64, 67, 0.3), 0px 1px 3px 1px rgba(60, 64, 67, 0.15);\n",
              "      fill: #174EA6;\n",
              "    }\n",
              "\n",
              "    [theme=dark] .colab-df-convert {\n",
              "      background-color: #3B4455;\n",
              "      fill: #D2E3FC;\n",
              "    }\n",
              "\n",
              "    [theme=dark] .colab-df-convert:hover {\n",
              "      background-color: #434B5C;\n",
              "      box-shadow: 0px 1px 3px 1px rgba(0, 0, 0, 0.15);\n",
              "      filter: drop-shadow(0px 1px 2px rgba(0, 0, 0, 0.3));\n",
              "      fill: #FFFFFF;\n",
              "    }\n",
              "  </style>\n",
              "\n",
              "      <script>\n",
              "        const buttonEl =\n",
              "          document.querySelector('#df-5bde91f9-466c-42d1-999d-c2f823699558 button.colab-df-convert');\n",
              "        buttonEl.style.display =\n",
              "          google.colab.kernel.accessAllowed ? 'block' : 'none';\n",
              "\n",
              "        async function convertToInteractive(key) {\n",
              "          const element = document.querySelector('#df-5bde91f9-466c-42d1-999d-c2f823699558');\n",
              "          const dataTable =\n",
              "            await google.colab.kernel.invokeFunction('convertToInteractive',\n",
              "                                                     [key], {});\n",
              "          if (!dataTable) return;\n",
              "\n",
              "          const docLinkHtml = 'Like what you see? Visit the ' +\n",
              "            '<a target=\"_blank\" href=https://colab.research.google.com/notebooks/data_table.ipynb>data table notebook</a>'\n",
              "            + ' to learn more about interactive tables.';\n",
              "          element.innerHTML = '';\n",
              "          dataTable['output_type'] = 'display_data';\n",
              "          await google.colab.output.renderOutput(dataTable, element);\n",
              "          const docLink = document.createElement('div');\n",
              "          docLink.innerHTML = docLinkHtml;\n",
              "          element.appendChild(docLink);\n",
              "        }\n",
              "      </script>\n",
              "    </div>\n",
              "  </div>\n",
              "  "
            ]
          },
          "metadata": {},
          "execution_count": 102
        }
      ]
    },
    {
      "cell_type": "code",
      "source": [
        "\n",
        "df = df.groupby(['ﻳﻌﻠﻖ'])['ﻳﻌﻠﻖ'].count()\n",
        "df"
      ],
      "metadata": {
        "id": "Sx5ykBt8XTFM",
        "outputId": "e2dbd260-52e8-4205-a7a9-ec77cefeef7e",
        "colab": {
          "base_uri": "https://localhost:8080/"
        }
      },
      "execution_count": 99,
      "outputs": [
        {
          "output_type": "execute_result",
          "data": {
            "text/plain": [
              "ﻳﻌﻠﻖ\n",
              "0.000000    5905\n",
              "0.073567       1\n",
              "Name: ﻳﻌﻠﻖ, dtype: int64"
            ]
          },
          "metadata": {},
          "execution_count": 99
        }
      ]
    }
  ]
}